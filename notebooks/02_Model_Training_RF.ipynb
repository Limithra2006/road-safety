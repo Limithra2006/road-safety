{
 "cells": [
  {
   "cell_type": "code",
   "execution_count": 2,
   "id": "d7281d78",
   "metadata": {},
   "outputs": [
    {
     "name": "stdout",
     "output_type": "stream",
     "text": [
      "Accuracy: 0.835985709645989\n",
      "MSE: 0.2078596947060734\n",
      "MAE: 0.17862942513803182\n"
     ]
    },
    {
     "data": {
      "text/plain": [
       "['random_forest_model.pkl']"
      ]
     },
     "execution_count": 2,
     "metadata": {},
     "output_type": "execute_result"
    }
   ],
   "source": [
    "import pandas as pd\n",
    "from sklearn.model_selection import train_test_split\n",
    "from sklearn.ensemble import RandomForestClassifier\n",
    "from sklearn.metrics import accuracy_score, mean_squared_error, mean_absolute_error\n",
    "from sklearn.preprocessing import LabelEncoder\n",
    "import joblib\n",
    "\n",
    "# Load dataset\n",
    "df = pd.read_csv(r\"D:\\\\Codes\\\\Projects\\\\ML\\\\Limi\\data\\\\RTA Dataset.csv\")\n",
    "\n",
    "# Drop rows with missing target\n",
    "df.dropna(subset=['Accident_severity'], inplace=True)\n",
    "\n",
    "# Encode target\n",
    "severity_order = ['Slight Injury', 'Serious Injury', 'Fatal injury']\n",
    "df['Accident_severity'] = pd.Categorical(df['Accident_severity'], categories=severity_order, ordered=True)\n",
    "le = LabelEncoder()\n",
    "df['Severity_encoded'] = le.fit_transform(df['Accident_severity'])\n",
    "\n",
    "# Fill missing values\n",
    "for col in df.select_dtypes(include=['object']).columns:\n",
    "    df[col] = df[col].fillna(df[col].mode()[0])\n",
    "for col in df.select_dtypes(include=['int64', 'float64']).columns:\n",
    "    df[col] = df[col].fillna(df[col].mean())\n",
    "\n",
    "# Drop columns\n",
    "df.drop(columns=['Accident_severity', 'Time'], inplace=True, errors='ignore')\n",
    "\n",
    "# One-hot encode categorical features\n",
    "df = pd.get_dummies(df, drop_first=True)\n",
    "\n",
    "# Features and labels\n",
    "X = df.drop(columns=['Severity_encoded'])\n",
    "y = df['Severity_encoded']\n",
    "\n",
    "# Train-test split\n",
    "X_train, X_test, y_train, y_test = train_test_split(X, y, random_state=42)\n",
    "\n",
    "# Train Random Forest\n",
    "rf = RandomForestClassifier(random_state=42)\n",
    "rf.fit(X_train, y_train)\n",
    "y_pred = rf.predict(X_test)\n",
    "\n",
    "# Metrics\n",
    "print(\"Accuracy:\", accuracy_score(y_test, y_pred))\n",
    "print(\"MSE:\", mean_squared_error(y_test, y_pred))\n",
    "print(\"MAE:\", mean_absolute_error(y_test, y_pred))\n",
    "\n",
    "# Save model\n",
    "joblib.dump(rf, 'random_forest_model.pkl')\n"
   ]
  }
 ],
 "metadata": {
  "kernelspec": {
   "display_name": "Python 3",
   "language": "python",
   "name": "python3"
  },
  "language_info": {
   "codemirror_mode": {
    "name": "ipython",
    "version": 3
   },
   "file_extension": ".py",
   "mimetype": "text/x-python",
   "name": "python",
   "nbconvert_exporter": "python",
   "pygments_lexer": "ipython3",
   "version": "3.11.9"
  }
 },
 "nbformat": 4,
 "nbformat_minor": 5
}
